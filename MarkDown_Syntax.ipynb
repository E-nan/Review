{
 "cells": [
  {
   "cell_type": "markdown",
   "metadata": {},
   "source": [
    "# *마크다운 사용법 정리"
   ]
  },
  {
   "cell_type": "markdown",
   "metadata": {},
   "source": [
    "### 1. 글자크기\n",
    "---\n",
    "# #제목\n",
    "## ##제목\n",
    "### ###제목\n",
    "#### ####제목\n",
    "##### #####제목\n",
    "###### ######제목\n",
    "---"
   ]
  },
  {
   "cell_type": "markdown",
   "metadata": {},
   "source": [
    "### 2.강조\n",
    "---\n",
    "a.이탤릭체<br>\n",
    "`* 혹은 _` *이탤릭체*\n",
    "\n",
    "b.두껍게<br>\n",
    "`** 혹은 __` **두껍게**\n",
    "\n",
    "c.취소선<br>\n",
    "`~~`  ~~취소선~~\n",
    "\n",
    "d.밑줄<br>\n",
    "`<u></u>` <u>밑줄</u><br>\n",
    "\n",
    "---"
   ]
  },
  {
   "cell_type": "markdown",
   "metadata": {},
   "source": [
    "### 3.``\n",
    "---\n",
    "a.` 를 두번쓰면 강조<br>\n",
    "\n",
    "`가나다라`\n",
    "\n",
    "b.`를 세번쓰면 코드강조\n",
    "```\n",
    "int a\n",
    "```"
   ]
  },
  {
   "cell_type": "code",
   "execution_count": null,
   "metadata": {},
   "outputs": [],
   "source": []
  }
 ],
 "metadata": {
  "kernelspec": {
   "display_name": "Python 3",
   "language": "python",
   "name": "python3"
  },
  "language_info": {
   "codemirror_mode": {
    "name": "ipython",
    "version": 3
   },
   "file_extension": ".py",
   "mimetype": "text/x-python",
   "name": "python",
   "nbconvert_exporter": "python",
   "pygments_lexer": "ipython3",
   "version": "3.6.4"
  }
 },
 "nbformat": 4,
 "nbformat_minor": 2
}

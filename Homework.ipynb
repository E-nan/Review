{
 "cells": [
  {
   "cell_type": "code",
   "execution_count": 1,
   "metadata": {},
   "outputs": [],
   "source": [
    "import math"
   ]
  },
  {
   "cell_type": "code",
   "execution_count": 2,
   "metadata": {},
   "outputs": [],
   "source": [
    "user={}#유저 Dictionary"
   ]
  },
  {
   "cell_type": "code",
   "execution_count": 4,
   "metadata": {},
   "outputs": [
    {
     "name": "stdout",
     "output_type": "stream",
     "text": [
      "아이디는 영어, 비밀번호는 숫자만 입력하세요\n",
      "아이디 : abc\n",
      "비  번 : 111\n",
      "회원가입 성공! 환영합니다.\n",
      "{'test': '123', 'abc': '111'}\n"
     ]
    }
   ],
   "source": [
    "#회원가입\n",
    "print(\"아이디는 영어, 비밀번호는 숫자만 입력하세요\")\n",
    "userID = input(\"아이디 : \")\n",
    "userPW = input(\"비  번 : \")\n",
    "if userID.isalpha() is False:\n",
    "    print(\"오류 : 아이디는 영어로만 작성해주세요\") \n",
    "elif userPW.isnumeric() is False:\n",
    "    print(\"오류 : 비밀번호는 숫자로만 작성해주세요\")\n",
    "else:\n",
    "    print(\"회원가입 성공! 환영합니다.\")\n",
    "    user[userID]=userPW\n",
    "    print(user)"
   ]
  },
  {
   "cell_type": "code",
   "execution_count": 5,
   "metadata": {},
   "outputs": [
    {
     "name": "stdout",
     "output_type": "stream",
     "text": [
      "반갑습니다. 아이디와 비밀번호를 입력해주세요\n",
      "아이디 : test\n",
      "비  번 : 123\n",
      "로그인 성공\n",
      "test님 환영합니다.\n"
     ]
    }
   ],
   "source": [
    "#로그인\n",
    "print(\"반갑습니다. 아이디와 비밀번호를 입력해주세요\")\n",
    "loginID = input(\"아이디 : \")\n",
    "if loginID in user.keys():\n",
    "    loginPW = input(\"비  번 : \")\n",
    "    if loginPW != user[loginID]:\n",
    "        print(\"비밀번호가 맞지 않습니다.\")\n",
    "    else:\n",
    "        print(\"로그인 성공\")\n",
    "        print(loginID+\"님 환영합니다.\")\n",
    "else:\n",
    "    print(\"없는 아이디입니다.\")"
   ]
  },
  {
   "cell_type": "code",
   "execution_count": 6,
   "metadata": {},
   "outputs": [
    {
     "name": "stdout",
     "output_type": "stream",
     "text": [
      "자신의 아이디를 입력해주세요\n",
      "아이디 : abc\n",
      "수정할 비밀번호 : 159\n",
      "수정 완료\n",
      "{'test': '123', 'abc': '159'}\n"
     ]
    }
   ],
   "source": [
    "#비밀번호 수정\n",
    "print(\"자신의 아이디를 입력해주세요\")\n",
    "updateID = input(\"아이디 : \")\n",
    "if updateID in user.keys():\n",
    "    updatePW = input(\"수정할 비밀번호 : \")\n",
    "    if updatePW.isnumeric() is False:\n",
    "        print(\"숫자로만 입력해주세요\")\n",
    "    else:\n",
    "        user[updateID] = updatePW\n",
    "        print(\"수정 완료\")\n",
    "        print(user)\n",
    "else:\n",
    "    print(\"없는 아이디입니다.\")"
   ]
  },
  {
   "cell_type": "code",
   "execution_count": 7,
   "metadata": {},
   "outputs": [
    {
     "name": "stdout",
     "output_type": "stream",
     "text": [
      "자신의 아이디와 비밀번호를 입력해주세요\n",
      "아이디 : abc\n",
      "비  번 : 159\n",
      "'회원탈퇴' 를 입력해주세요\n",
      "입  력 : 회원탈퇴\n",
      "탈퇴 성공\n",
      "{'test': '123'}\n"
     ]
    }
   ],
   "source": [
    "#회원탈퇴\n",
    "print(\"자신의 아이디와 비밀번호를 입력해주세요\")\n",
    "userID = input(\"아이디 : \")\n",
    "if userID in user.keys():\n",
    "    userPW = input(\"비  번 : \")\n",
    "    if userPW != user[userID]:\n",
    "        print(\"비밀번호가 맞지 않습니다.\")\n",
    "    else:\n",
    "        print(\"'회원탈퇴' 를 입력해주세요\")\n",
    "        memberOUT = input(\"입  력 : \")\n",
    "        if memberOUT == \"회원탈퇴\":\n",
    "            print(\"탈퇴 성공\")\n",
    "            user.pop(userID)\n",
    "            print(user)\n",
    "        else:\n",
    "            print(\"탈퇴 실패\")\n",
    "else:\n",
    "    print(\"없는 아이디입니다.\")"
   ]
  },
  {
   "cell_type": "code",
   "execution_count": 8,
   "metadata": {},
   "outputs": [
    {
     "name": "stdout",
     "output_type": "stream",
     "text": [
      "64\n",
      "95\n",
      "64\n"
     ]
    }
   ],
   "source": [
    "print(ord('@'))\n",
    "print(ord('_'))\n",
    "print(ord('@'))"
   ]
  },
  {
   "cell_type": "code",
   "execution_count": 9,
   "metadata": {},
   "outputs": [
    {
     "name": "stdout",
     "output_type": "stream",
     "text": [
      "0b1011111 0o100\n",
      "64 0b1011111 0o100\n"
     ]
    }
   ],
   "source": [
    "a=bin(95)\n",
    "b=oct(64)\n",
    "num1=64\n",
    "num2=a\n",
    "num3=b\n",
    "print(a,b)\n",
    "print(num1,num2,num3)"
   ]
  },
  {
   "cell_type": "code",
   "execution_count": 10,
   "metadata": {},
   "outputs": [
    {
     "name": "stdout",
     "output_type": "stream",
     "text": [
      "문제 결과 :  POLY\n"
     ]
    }
   ],
   "source": [
    "text = 'paoalay'\n",
    "a = text.split('a')\n",
    "b = ''.join(a)\n",
    "print(\"문제 결과 : \",b.upper())"
   ]
  },
  {
   "cell_type": "code",
   "execution_count": 11,
   "metadata": {},
   "outputs": [
    {
     "name": "stdout",
     "output_type": "stream",
     "text": [
      "1번)  False\n",
      "2번)  [[1, 2, 3], ['one', 'two', 'three']]\n",
      "3번)  [['one', 'two', 'three']]\n",
      "4번)  7\n"
     ]
    }
   ],
   "source": [
    "a = [1,2,3]\n",
    "b = ['one','two','three']\n",
    "c = [a, b]\n",
    "d = [-3,-2,-1,0]\n",
    "d.extend(a)\n",
    "e = len(d)\n",
    "\n",
    "print(\"1번) \",123 in a)\n",
    "print(\"2번) \",c)\n",
    "c.pop(0)\n",
    "print(\"3번) \",c)\n",
    "print(\"4번) \",e)"
   ]
  },
  {
   "cell_type": "code",
   "execution_count": null,
   "metadata": {},
   "outputs": [],
   "source": []
  }
 ],
 "metadata": {
  "kernelspec": {
   "display_name": "Python 3",
   "language": "python",
   "name": "python3"
  },
  "language_info": {
   "codemirror_mode": {
    "name": "ipython",
    "version": 3
   },
   "file_extension": ".py",
   "mimetype": "text/x-python",
   "name": "python",
   "nbconvert_exporter": "python",
   "pygments_lexer": "ipython3",
   "version": "3.6.4"
  }
 },
 "nbformat": 4,
 "nbformat_minor": 2
}

{
 "cells": [
  {
   "cell_type": "markdown",
   "metadata": {},
   "source": [
    "## *0808 수업"
   ]
  },
  {
   "cell_type": "markdown",
   "metadata": {},
   "source": [
    "## -함수정의\n",
    "1.인자(매개변수)가 없는 경우\n",
    "~~~\n",
    "def 함수명():\n",
    " 본문1\n",
    " 본문2\n",
    " return\n",
    "~~~\n",
    "2.인자(매개변수)가 있는경우\n",
    "~~~\n",
    "def 함수명(매개변수 목록):\n",
    " 본문1\n",
    " 본문2\n",
    " return\n",
    "~~~\n",
    "\n",
    "#### 예제"
   ]
  },
  {
   "cell_type": "code",
   "execution_count": 1,
   "metadata": {},
   "outputs": [
    {
     "name": "stdout",
     "output_type": "stream",
     "text": [
      "55\n"
     ]
    }
   ],
   "source": [
    "def Sum10(start, stop):\n",
    "    sum10 = 0\n",
    "    for i in range(start, stop):\n",
    "        sum10+=i\n",
    "    return sum10\n",
    "\n",
    "result = Sum10(1,11)\n",
    "print(result)"
   ]
  },
  {
   "cell_type": "markdown",
   "metadata": {},
   "source": [
    "---\n",
    "## -가변 매개변수\n",
    "상황에 따라 매개변수의 수가 달라지는 것\n",
    "\n",
    "1.튜플 가변 매개변수\n",
    "~~~\n",
    "def 함수명(*매개변수):\n",
    "    코드블록\n",
    "~~~\n",
    "2.딕셔너리 가변 매개변수\n",
    "~~~\n",
    "def Call_Dict(**gdata):\n",
    "    for key, value in gdata.items():\n",
    "        print(\"{0} = {1}\".format(key,value))\n",
    "    \n",
    "Call_Dict(a=1,b=2,c=3)\n",
    "~~~\n",
    "\n",
    "#### 예제1\n",
    "##### 튜플 가변 매개변수"
   ]
  },
  {
   "cell_type": "code",
   "execution_count": 2,
   "metadata": {},
   "outputs": [
    {
     "name": "stdout",
     "output_type": "stream",
     "text": [
      " 문자열 합치기\n",
      " 문자열 3개 합치기\n"
     ]
    },
    {
     "data": {
      "text/plain": [
       "' 문자열 3개 합치기'"
      ]
     },
     "execution_count": 2,
     "metadata": {},
     "output_type": "execute_result"
    }
   ],
   "source": [
    "def merge_string(*tlist):\n",
    "    result = ''\n",
    "    for s in tlist:\n",
    "        result = result+\" \"+s\n",
    "    print(result)\n",
    "    return result\n",
    "    \n",
    "merge_string(\"문자열\", \"합치기\")\n",
    "merge_string(\"문자열\",\"3개\",\"합치기\")"
   ]
  },
  {
   "cell_type": "markdown",
   "metadata": {},
   "source": [
    "#### 예제2\n",
    "##### 딕셔너리 가변 매개변수"
   ]
  },
  {
   "cell_type": "code",
   "execution_count": 1,
   "metadata": {},
   "outputs": [
    {
     "name": "stdout",
     "output_type": "stream",
     "text": [
      "Kim = GK\n",
      "Park = MF\n",
      "Kim = GK\n",
      "Park = MF\n",
      "Lee = FW\n"
     ]
    }
   ],
   "source": [
    "def print_team(**players):\n",
    "    for k,v in players.items():\n",
    "        print('{0} = {1}'.format(k,v))\n",
    "        \n",
    "print_team(Kim='GK',Park='MF')\n",
    "print_team(Kim='GK',Park='MF',Lee='FW')"
   ]
  },
  {
   "cell_type": "markdown",
   "metadata": {},
   "source": [
    "---\n",
    "## -함수를 변수에 할당하기\n",
    "파이썬에서는 변수를 함수에 할당가능하다. 심지어 **함수의 매개변수**로써도 사용가능하다<br>\n",
    "**변수명 = 함수명** 의 형태이며,<br>\n",
    "함수를 변수에도 할당할 수 있기 때문에, 리스트나 딕셔너리에도 넣을 수 있다.\n",
    "\n",
    "#### 예제1\n",
    "##### 변수에 함수명 넣기"
   ]
  },
  {
   "cell_type": "markdown",
   "metadata": {},
   "source": [
    "def something(a):\n",
    "    print(\"입력한 값 : \"+str(a))\n",
    "    \n",
    "test = something\n",
    "test('메롱')"
   ]
  },
  {
   "cell_type": "markdown",
   "metadata": {},
   "source": [
    "#### 예제2\n",
    "##### 리스트에 함수명 넣기"
   ]
  },
  {
   "cell_type": "code",
   "execution_count": 4,
   "metadata": {},
   "outputs": [
    {
     "name": "stdout",
     "output_type": "stream",
     "text": [
      "11\n",
      "-1\n"
     ]
    }
   ],
   "source": [
    "def plus(a,b):\n",
    "    return a+b\n",
    "\n",
    "def minus(a,b):\n",
    "    return a-b\n",
    "    \n",
    "flist = [plus,minus]\n",
    "print(flist[0](5,6))\n",
    "print(flist[1](5,6))"
   ]
  },
  {
   "cell_type": "markdown",
   "metadata": {},
   "source": [
    "#### 예제3\n",
    "##### 다른 함수의 매개변수로 사용"
   ]
  },
  {
   "cell_type": "code",
   "execution_count": 5,
   "metadata": {},
   "outputs": [
    {
     "name": "stdout",
     "output_type": "stream",
     "text": [
      "안녕\n",
      "Hello\n"
     ]
    }
   ],
   "source": [
    "def hello_a():\n",
    "    print(\"안녕\")\n",
    "    \n",
    "def hello_b():\n",
    "    print(\"Hello\")\n",
    "    \n",
    "def hello(test):\n",
    "    test()\n",
    "    \n",
    "hello(hello_a)\n",
    "hello(hello_b)"
   ]
  },
  {
   "cell_type": "markdown",
   "metadata": {},
   "source": [
    "---\n",
    "### -평균, 분산\n",
    "sum() : 합을 구하는 함수<br>\n",
    "len() : 개수를 구하는 함수\n",
    "\n",
    "#### 예제1\n",
    "##### 평균"
   ]
  },
  {
   "cell_type": "code",
   "execution_count": 6,
   "metadata": {},
   "outputs": [
    {
     "name": "stdout",
     "output_type": "stream",
     "text": [
      "평균 : 4.0\n"
     ]
    },
    {
     "data": {
      "text/plain": [
       "4.0"
      ]
     },
     "execution_count": 6,
     "metadata": {},
     "output_type": "execute_result"
    }
   ],
   "source": [
    "\n",
    "def mean(args):\n",
    "    m = sum(args)/len(args)  #sum() 합을 구하는 함수, len() 개수를 구하는 함수\n",
    "    print('평균 : '+str(m))\n",
    "    return m\n",
    "\n",
    "data = [1,2,3,4,5,6,7]\n",
    "mean(data)"
   ]
  },
  {
   "cell_type": "markdown",
   "metadata": {},
   "source": [
    "#### 예제2\n",
    "##### 분산"
   ]
  },
  {
   "cell_type": "code",
   "execution_count": 7,
   "metadata": {},
   "outputs": [
    {
     "name": "stdout",
     "output_type": "stream",
     "text": [
      "평균 : 4.0\n",
      "분산 : 1.5\n"
     ]
    },
    {
     "data": {
      "text/plain": [
       "1.5"
      ]
     },
     "execution_count": 7,
     "metadata": {},
     "output_type": "execute_result"
    }
   ],
   "source": [
    "def variance(args):\n",
    "    total=0\n",
    "    m = mean(args)\n",
    "    for i in args:\n",
    "        total = (i-m)**2\n",
    "    var = total/(len(args)-1)\n",
    "    print('분산 : '+str(var))\n",
    "    return var\n",
    "\n",
    "data = [1,2,3,4,5,6,7]\n",
    "variance(data)"
   ]
  },
  {
   "cell_type": "markdown",
   "metadata": {},
   "source": [
    "#### 예제3\n",
    "##### 표준편차"
   ]
  },
  {
   "cell_type": "code",
   "execution_count": 8,
   "metadata": {},
   "outputs": [
    {
     "name": "stdout",
     "output_type": "stream",
     "text": [
      "평균 : 4.0\n",
      "분산 : 1.5\n",
      "표준편차 : 1.224744871391589\n"
     ]
    },
    {
     "data": {
      "text/plain": [
       "1.224744871391589"
      ]
     },
     "execution_count": 8,
     "metadata": {},
     "output_type": "execute_result"
    }
   ],
   "source": [
    "import math\n",
    "def stddev(data):\n",
    "    v=variance(data)\n",
    "    sd=math.sqrt(v)\n",
    "    print('표준편차 : '+str(sd))\n",
    "    return sd\n",
    "\n",
    "data=[1,2,3,4,5,6,7]\n",
    "stddev(data)"
   ]
  },
  {
   "cell_type": "markdown",
   "metadata": {},
   "source": [
    "---\n",
    "## -클래스\n",
    "클래스 속성<br>\n",
    "~~~\n",
    "class InstanceVar:\n",
    "    text_list=[] #클래스멤버(전역번수처럼 사용)\n",
    "        \n",
    "    def add(self, text):\n",
    "        self.text_list.append(text)\n",
    "        \n",
    "    def print_list(self):\n",
    "        print(self.text_list)\n",
    "        \n",
    "if __name__ == '__main__':\n",
    "    a = InstanceVar()\n",
    "    a.add('a')\n",
    "    a.print_list()\n",
    "    \n",
    "    b = InstanceVar()\n",
    "    b.add('b')\n",
    "    b.print_list()\n",
    "~~~\n",
    "**출력결과**\n",
    "['a']\n",
    "['a','b']\n",
    "클래스 속성으로 정의된 text_list변수를<br>\n",
    "ClassVar의 모든 인스턴스가 공유하게 되어 생긴 문제<br>\n",
    "['a']<br>\n",
    "['b']가 되기위해선 각 객체마다 고유한 인스턴스로 사용하게 해야 함\n",
    "\n",
    "#### 예제"
   ]
  },
  {
   "cell_type": "code",
   "execution_count": 9,
   "metadata": {},
   "outputs": [
    {
     "name": "stdout",
     "output_type": "stream",
     "text": [
      "['a']\n",
      "['b']\n"
     ]
    }
   ],
   "source": [
    "class InstanceVar:\n",
    "    def __init__(self):\n",
    "        self.text_list=[]\n",
    "        \n",
    "    def add(self, text):\n",
    "        self.text_list.append(text)\n",
    "        \n",
    "    def print_list(self):\n",
    "        print(self.text_list)\n",
    "        \n",
    "if __name__ == '__main__':\n",
    "    a = InstanceVar()\n",
    "    a.add('a')\n",
    "    a.print_list()\n",
    "    \n",
    "    b = InstanceVar()\n",
    "    b.add('b')\n",
    "    b.print_list()"
   ]
  },
  {
   "cell_type": "markdown",
   "metadata": {},
   "source": [
    "#### 정적메소드, 클래스메소드\n",
    "* 인스턴스 메소드\n",
    "    - 인스턴스(객체)에 속한 메소드\n",
    "    - 인스턴스를 통해 호출 가능\n",
    "    - 첫번째 매개변수는 self\n",
    "   \n",
    "* 클래스에 속한 메소드\n",
    "    - 정적메소드\n",
    "    - 클래스 메소드\n",
    "    \n",
    "#### 예제\n",
    "##### 사칙연산 정적메소드"
   ]
  },
  {
   "cell_type": "code",
   "execution_count": 10,
   "metadata": {},
   "outputs": [],
   "source": [
    "class Calculator:\n",
    "    Cum=0\n",
    "    def __init__(self):\n",
    "        self.AddCnt = 0\n",
    "        self.MinCnt = 0\n",
    "        self.MulCnt = 0\n",
    "        self.DivCnt = 0\n",
    "    def Add(self, a,b):\n",
    "        self.AddCnt +=1\n",
    "        rst = a + b\n",
    "        self.Cum +=rst\n",
    "        return rst;\n",
    "    def Minus(self, a,b):\n",
    "        self.MinCnt +=1\n",
    "        rst = a - b\n",
    "        self.Cum +=rst\n",
    "        return rst;\n",
    "    def Mul(self, a,b):\n",
    "        self.MulCnt +=1\n",
    "        rst = a * b\n",
    "        self.Cum +=rst\n",
    "        return rst;\n",
    "    def Div(self, a,b):\n",
    "        self.DivCnt +=1\n",
    "        rst = a / b\n",
    "        self.Cum +=rst\n",
    "        return rst;\n",
    "    def ShowCnt(self):\n",
    "        print('총합 : '+str(self.Cum))\n",
    "        print('덧셈 : '+str(self.AddCnt))\n",
    "        print('뺄셈 : '+str(self.MinCnt))\n",
    "        print('나눗셈 : '+str(self.MulCnt))\n",
    "        print('곱셈 : '+str(self.DivCnt))"
   ]
  },
  {
   "cell_type": "code",
   "execution_count": 12,
   "metadata": {},
   "outputs": [
    {
     "name": "stdout",
     "output_type": "stream",
     "text": [
      "총합 : 15\n",
      "덧셈 : 1\n",
      "뺄셈 : 0\n",
      "나눗셈 : 0\n",
      "곱셈 : 0\n"
     ]
    }
   ],
   "source": [
    "cal = Calculator()\n",
    "cal.Add(5,10)\n",
    "cal.ShowCnt()"
   ]
  },
  {
   "cell_type": "code",
   "execution_count": null,
   "metadata": {},
   "outputs": [],
   "source": []
  }
 ],
 "metadata": {
  "kernelspec": {
   "display_name": "Python 3",
   "language": "python",
   "name": "python3"
  },
  "language_info": {
   "codemirror_mode": {
    "name": "ipython",
    "version": 3
   },
   "file_extension": ".py",
   "mimetype": "text/x-python",
   "name": "python",
   "nbconvert_exporter": "python",
   "pygments_lexer": "ipython3",
   "version": "3.6.4"
  }
 },
 "nbformat": 4,
 "nbformat_minor": 2
}

{
 "cells": [
  {
   "cell_type": "markdown",
   "metadata": {},
   "source": [
    "# Python 영화 크롤링 예제(네이버 랭킹)\n",
    "출처 : <a href>https://swhacademy.ga/blog/2019/02/07/crawling-naver-movie-ranking/</a>\n",
    "## 오픈소스 라이브러리사용\n",
    "### requests : 웹페이지에 연결하여 페이지 소스를 get\n",
    "### bs4 : 페이지 소스를 html형태로 분석하여 원하는 정보를 추출"
   ]
  },
  {
   "cell_type": "code",
   "execution_count": 5,
   "metadata": {},
   "outputs": [],
   "source": [
    "import requests\n",
    "from bs4 import BeautifulSoup"
   ]
  },
  {
   "cell_type": "code",
   "execution_count": 6,
   "metadata": {},
   "outputs": [],
   "source": [
    "#naver영화랭킹 사이트에 접속하여 정보를 얻기, response는 객체(클래스로부터 만들어지는 변수를 객체라고하며, 여러 개의 값을 가짐)\n",
    "response = requests.get('https://movie.naver.com/movie/sdb/rank/rmovie.nhn')\n",
    "#얻어진 정보인 response에서 text정보만 얻기(디버깅으로 확인)\n",
    "html = response.text"
   ]
  },
  {
   "cell_type": "code",
   "execution_count": 7,
   "metadata": {},
   "outputs": [],
   "source": [
    "#얻은 text정보를 BeautifulSoup의 html.parser를 사용해서 html문서로 해석\n",
    "soup = BeautifulSoup(html, 'html.parser')\n",
    "ranking = 1"
   ]
  },
  {
   "cell_type": "code",
   "execution_count": 8,
   "metadata": {},
   "outputs": [
    {
     "name": "stdout",
     "output_type": "stream",
     "text": [
      "\n",
      "1위 : 봉오동 전투\n",
      "\n",
      "2위 : 엑시트\n",
      "\n",
      "3위 : 사자\n",
      "\n",
      "4위 : 분노의 질주: 홉스&쇼\n",
      "\n",
      "5위 : 브링 더 소울 : 더 무비\n",
      "\n",
      "6위 : 알라딘\n",
      "\n",
      "7위 : 마이펫의 이중생활2\n",
      "\n",
      "8위 : 기생충\n",
      "\n",
      "9위 : 레드슈즈\n",
      "\n",
      "10위 : 타짜: 원 아이드 잭\n",
      "\n",
      "11위 : 라이온 킹\n",
      "\n",
      "12위 : 암전\n",
      "\n",
      "13위 : 김복동\n",
      "\n",
      "14위 : 나랏말싸미\n",
      "\n",
      "15위 : 변신\n",
      "\n",
      "16위 : 인면어: 저주의 시작\n",
      "\n",
      "17위 : 깡패들\n",
      "\n",
      "18위 : 진범\n",
      "\n",
      "19위 : 앵그리 버드 2: 독수리 왕국의 침공\n",
      "\n",
      "20위 : 주전장\n",
      "\n",
      "21위 : 롱 샷\n",
      "\n",
      "22위 : 컨저링 맨션\n",
      "\n",
      "23위 : 광대들: 풍문조작단\n",
      "\n",
      "24위 : 스파이더맨: 파 프롬 홈\n",
      "\n",
      "25위 : 캐리tv 러브콘서트 더 무비\n",
      "\n",
      "26위 : 텐: 시크릿 미션\n",
      "\n",
      "27위 : 안녕, 티라노: 영원히, 함께\n",
      "\n",
      "28위 : 수상한 교수\n",
      "\n",
      "29위 : 그것: 두 번째 이야기\n",
      "\n",
      "30위 : 살인자의 기억법\n",
      "\n",
      "31위 : 유열의 음악앨범\n",
      "\n",
      "32위 : 장사리 : 잊혀진 영웅들\n",
      "\n",
      "33위 : 톨킨\n",
      "\n",
      "34위 : 어벤져스: 엔드게임\n",
      "\n",
      "35위 : 원더랜드\n",
      "\n",
      "36위 : 오빠생각\n",
      "\n",
      "37위 : 나쁜 녀석들: 더 무비\n",
      "\n",
      "38위 : 침묵\n",
      "\n",
      "39위 : 호크니\n",
      "\n",
      "40위 : 양자물리학\n",
      "\n",
      "41위 : 존 윅 3: 파라벨룸\n",
      "\n",
      "42위 : 고질라: 킹 오브 몬스터\n",
      "\n",
      "43위 : 사랑의 선물\n",
      "\n",
      "44위 : 제 7기사단\n",
      "\n",
      "45위 : 커런트 워\n",
      "\n",
      "46위 : 나만 없어 고양이\n",
      "\n",
      "47위 : 반도\n",
      "\n",
      "48위 : 밤의 문이 열린다\n",
      "\n",
      "49위 : 몬몬몬 몬스터\n",
      "\n",
      "50위 : 날, 보러와요\n"
     ]
    }
   ],
   "source": [
    "#html문서인 soup을 패턴을 분석하여 정보를 얻음\n",
    "for tag in soup.select('div[class=tit3]'):\n",
    "    url = tag.get('href')\n",
    "    print(\"\\n\" + str(ranking) + '위 : ' + tag.text.strip())\t\n",
    "    ranking = ranking + 1"
   ]
  },
  {
   "cell_type": "code",
   "execution_count": null,
   "metadata": {},
   "outputs": [],
   "source": []
  }
 ],
 "metadata": {
  "kernelspec": {
   "display_name": "Python 3",
   "language": "python",
   "name": "python3"
  },
  "language_info": {
   "codemirror_mode": {
    "name": "ipython",
    "version": 3
   },
   "file_extension": ".py",
   "mimetype": "text/x-python",
   "name": "python",
   "nbconvert_exporter": "python",
   "pygments_lexer": "ipython3",
   "version": "3.6.4"
  }
 },
 "nbformat": 4,
 "nbformat_minor": 2
}
